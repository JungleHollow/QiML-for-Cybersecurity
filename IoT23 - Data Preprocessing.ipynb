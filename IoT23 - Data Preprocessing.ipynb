{
 "cells": [
  {
   "cell_type": "code",
   "id": "choice-fitness",
   "metadata": {
    "ExecuteTime": {
     "end_time": "2024-08-09T11:04:25.668243Z",
     "start_time": "2024-08-09T11:04:25.664533Z"
    }
   },
   "source": [
    "# Code adapted from: https://github.com/yliang725/Anomaly-Detection-IoT23/blob/main/Data%20Preprocessing/IoT23%20-%20Data%20Preprocessing.ipynb\n",
    "import pandas as pd\n",
    "from tensorflow.data.experimental import make_csv_dataset\n",
    "import numpy as np\n",
    "from sklearn.preprocessing import StandardScaler\n",
    "from sklearn.model_selection import train_test_split\n",
    "from imblearn.over_sampling import SMOTE"
   ],
   "outputs": [],
   "execution_count": 44
  },
  {
   "cell_type": "code",
   "id": "experienced-pepper",
   "metadata": {
    "ExecuteTime": {
     "end_time": "2024-08-09T11:04:25.771390Z",
     "start_time": "2024-08-09T11:04:25.766375Z"
    }
   },
   "source": [
    "capture_34 = \"./Datasets/IoT23/CTU-IoT-Malware-Capture-34-1/bro/conn.log.labeled\"\n",
    "capture_43 = \"./Datasets/IoT23/CTU-IoT-Malware-Capture-43-1/bro/conn.log.labeled\"\n",
    "capture_44 = \"./Datasets/IoT23/CTU-IoT-Malware-Capture-44-1/bro/conn.log.labeled\"\n",
    "capture_49 = \"./Datasets/IoT23/CTU-IoT-Malware-Capture-49-1/bro/conn.log.labeled\"\n",
    "capture_52 = \"./Datasets/IoT23/CTU-IoT-Malware-Capture-52-1/bro/conn.log.labeled\"\n",
    "capture_20 = \"./Code/Datasets/IoT23/CTU-IoT-Malware-Capture-20-1/bro/conn.log.labeled\"\n",
    "capture_21 = \"./Code/Datasets/IoT23/CTU-IoT-Malware-Capture-21-1/bro/conn.log.labeled\"\n",
    "capture_42 = \"./Datasets/IoT23/CTU-IoT-Malware-Capture-42-1/bro/conn.log.labeled\"\n",
    "capture_60 = \"./Datasets/IoT23/CTU-IoT-Malware-Capture-60-1/bro/conn.log.labeled\"\n",
    "capture_17 = \"./Datasets/IoT23/CTU-IoT-Malware-Capture-17-1/bro/conn.log.labeled\"\n",
    "capture_36 = \"./Datasets/IoT23/CTU-IoT-Malware-Capture-36-1/bro/conn.log.labeled\"\n",
    "capture_33 = \"./Datasets/IoT23/CTU-IoT-Malware-Capture-33-1/bro/conn.log.labeled\"\n",
    "capture_8 = \"./Datasets/IoT23/CTU-IoT-Malware-Capture-8-1/bro/conn.log.labeled\"\n",
    "capture_35 = \"./Datasets/IoT23/CTU-IoT-Malware-Capture-35-1/bro/conn.log.labeled\"\n",
    "capture_48 = \"./Datasets/IoT23/CTU-IoT-Malware-Capture-48-1/bro/conn.log.labeled\"\n",
    "capture_39 = \"./Datasets/IoT23/CTU-IoT-Malware-Capture-39-1/bro/conn.log.labeled\"\n",
    "capture_7 = \"./Datasets/IoT23/CTU-IoT-Malware-Capture-7-1/bro/conn.log.labeled\"\n",
    "capture_9 = \"./Datasets/IoT23/CTU-IoT-Malware-Capture-9-1/bro/conn.log.labeled\"\n",
    "capture_3 = \"./Datasets/IoT23/CTU-IoT-Malware-Capture-3-1/bro/conn.log.labeled\"\n",
    "capture_1 = \"./Datasets/IoT23/CTU-IoT-Malware-Capture-1-1/bro/conn.log.labeled\""
   ],
   "outputs": [],
   "execution_count": 45
  },
  {
   "cell_type": "code",
   "id": "ordinary-burst",
   "metadata": {
    "ExecuteTime": {
     "end_time": "2024-08-09T11:04:26.011928Z",
     "start_time": "2024-08-09T11:04:25.944643Z"
    }
   },
   "source": [
    "df34 = pd.read_table(filepath_or_buffer=capture_34, skiprows=10, nrows=100000)\n",
    "df34.columns=['ts',\n",
    "              'uid',\n",
    "              'id.orig_h',\n",
    "              'id.orig_p',\n",
    "              'id.resp_h',\n",
    "              'id.resp_p',\n",
    "              'proto',\n",
    "              'service',\n",
    "              'duration',\n",
    "              'orig_bytes',\n",
    "              'resp_bytes',\n",
    "              'conn_state',\n",
    "              'local_orig',\n",
    "              'local_resp',\n",
    "              'missed_bytes',\n",
    "              'history',\n",
    "              'orig_pkts',\n",
    "              'orig_ip_bytes',\n",
    "              'resp_pkts',\n",
    "              'resp_ip_bytes',\n",
    "              'label']\n",
    "df34.drop(df34.tail(1).index,inplace=True)"
   ],
   "outputs": [],
   "execution_count": 46
  },
  {
   "cell_type": "code",
   "id": "advance-region",
   "metadata": {
    "ExecuteTime": {
     "end_time": "2024-08-09T11:04:26.262675Z",
     "start_time": "2024-08-09T11:04:26.013512Z"
    }
   },
   "source": [
    "df43 = pd.read_table(filepath_or_buffer=capture_43, skiprows=10, nrows=100000)\n",
    "df43.columns=['ts',\n",
    "              'uid',\n",
    "              'id.orig_h',\n",
    "              'id.orig_p',\n",
    "              'id.resp_h',\n",
    "              'id.resp_p',\n",
    "              'proto',\n",
    "              'service',\n",
    "              'duration',\n",
    "              'orig_bytes',\n",
    "              'resp_bytes',\n",
    "              'conn_state',\n",
    "              'local_orig',\n",
    "              'local_resp',\n",
    "              'missed_bytes',\n",
    "              'history',\n",
    "              'orig_pkts',\n",
    "              'orig_ip_bytes',\n",
    "              'resp_pkts',\n",
    "              'resp_ip_bytes',\n",
    "              'label']\n",
    "df43.drop(df43.tail(1).index,inplace=True)"
   ],
   "outputs": [],
   "execution_count": 47
  },
  {
   "cell_type": "code",
   "id": "minor-filename",
   "metadata": {
    "ExecuteTime": {
     "end_time": "2024-08-09T11:04:26.271167Z",
     "start_time": "2024-08-09T11:04:26.263683Z"
    }
   },
   "source": [
    "df44 = pd.read_table(filepath_or_buffer=capture_44, skiprows=10, nrows=100000)\n",
    "df44.columns=['ts',\n",
    "              'uid',\n",
    "              'id.orig_h',\n",
    "              'id.orig_p',\n",
    "              'id.resp_h',\n",
    "              'id.resp_p',\n",
    "              'proto',\n",
    "              'service',\n",
    "              'duration',\n",
    "              'orig_bytes',\n",
    "              'resp_bytes',\n",
    "              'conn_state',\n",
    "              'local_orig',\n",
    "              'local_resp',\n",
    "              'missed_bytes',\n",
    "              'history',\n",
    "              'orig_pkts',\n",
    "              'orig_ip_bytes',\n",
    "              'resp_pkts',\n",
    "              'resp_ip_bytes',\n",
    "              'label']\n",
    "df44.drop(df44.tail(1).index,inplace=True)"
   ],
   "outputs": [],
   "execution_count": 48
  },
  {
   "cell_type": "code",
   "id": "special-winter",
   "metadata": {
    "ExecuteTime": {
     "end_time": "2024-08-09T11:04:26.525100Z",
     "start_time": "2024-08-09T11:04:26.272176Z"
    }
   },
   "source": [
    "df49 = pd.read_table(filepath_or_buffer=capture_49, skiprows=10, nrows=100000)\n",
    "df49.columns=['ts',\n",
    "              'uid',\n",
    "              'id.orig_h',\n",
    "              'id.orig_p',\n",
    "              'id.resp_h',\n",
    "              'id.resp_p',\n",
    "              'proto',\n",
    "              'service',\n",
    "              'duration',\n",
    "              'orig_bytes',\n",
    "              'resp_bytes',\n",
    "              'conn_state',\n",
    "              'local_orig',\n",
    "              'local_resp',\n",
    "              'missed_bytes',\n",
    "              'history',\n",
    "              'orig_pkts',\n",
    "              'orig_ip_bytes',\n",
    "              'resp_pkts',\n",
    "              'resp_ip_bytes',\n",
    "              'label']\n",
    "df49.drop(df49.tail(1).index,inplace=True)"
   ],
   "outputs": [],
   "execution_count": 49
  },
  {
   "cell_type": "code",
   "id": "involved-guyana",
   "metadata": {
    "ExecuteTime": {
     "end_time": "2024-08-09T11:04:26.813390Z",
     "start_time": "2024-08-09T11:04:26.526106Z"
    }
   },
   "source": [
    "df52 = pd.read_table(filepath_or_buffer=capture_52, skiprows=10, nrows=100000)\n",
    "df52.columns=['ts',\n",
    "              'uid',\n",
    "              'id.orig_h',\n",
    "              'id.orig_p',\n",
    "              'id.resp_h',\n",
    "              'id.resp_p',\n",
    "              'proto',\n",
    "              'service',\n",
    "              'duration',\n",
    "              'orig_bytes',\n",
    "              'resp_bytes',\n",
    "              'conn_state',\n",
    "              'local_orig',\n",
    "              'local_resp',\n",
    "              'missed_bytes',\n",
    "              'history',\n",
    "              'orig_pkts',\n",
    "              'orig_ip_bytes',\n",
    "              'resp_pkts',\n",
    "              'resp_ip_bytes',\n",
    "              'label']\n",
    "df52.drop(df52.tail(1).index,inplace=True)"
   ],
   "outputs": [],
   "execution_count": 50
  },
  {
   "cell_type": "code",
   "id": "exterior-nightmare",
   "metadata": {
    "ExecuteTime": {
     "end_time": "2024-08-09T11:04:26.830725Z",
     "start_time": "2024-08-09T11:04:26.814897Z"
    }
   },
   "source": [
    "df20 = pd.read_table(filepath_or_buffer=capture_20, skiprows=10, nrows=100000)\n",
    "df20.columns=['ts',\n",
    "              'uid',\n",
    "              'id.orig_h',\n",
    "              'id.orig_p',\n",
    "              'id.resp_h',\n",
    "              'id.resp_p',\n",
    "              'proto',\n",
    "              'service',\n",
    "              'duration',\n",
    "              'orig_bytes',\n",
    "              'resp_bytes',\n",
    "              'conn_state',\n",
    "              'local_orig',\n",
    "              'local_resp',\n",
    "              'missed_bytes',\n",
    "              'history',\n",
    "              'orig_pkts',\n",
    "              'orig_ip_bytes',\n",
    "              'resp_pkts',\n",
    "              'resp_ip_bytes',\n",
    "              'label']\n",
    "df20.drop(df20.tail(1).index,inplace=True)"
   ],
   "outputs": [],
   "execution_count": 51
  },
  {
   "cell_type": "code",
   "id": "closing-cooler",
   "metadata": {
    "ExecuteTime": {
     "end_time": "2024-08-09T11:04:26.848805Z",
     "start_time": "2024-08-09T11:04:26.831730Z"
    }
   },
   "source": [
    "df21 = pd.read_table(filepath_or_buffer=capture_21, skiprows=10, nrows=100000)\n",
    "df21.columns=['ts',\n",
    "              'uid',\n",
    "              'id.orig_h',\n",
    "              'id.orig_p',\n",
    "              'id.resp_h',\n",
    "              'id.resp_p',\n",
    "              'proto',\n",
    "              'service',\n",
    "              'duration',\n",
    "              'orig_bytes',\n",
    "              'resp_bytes',\n",
    "              'conn_state',\n",
    "              'local_orig',\n",
    "              'local_resp',\n",
    "              'missed_bytes',\n",
    "              'history',\n",
    "              'orig_pkts',\n",
    "              'orig_ip_bytes',\n",
    "              'resp_pkts',\n",
    "              'resp_ip_bytes',\n",
    "              'label']\n",
    "df21.drop(df21.tail(1).index,inplace=True)"
   ],
   "outputs": [],
   "execution_count": 52
  },
  {
   "cell_type": "code",
   "id": "arabic-alert",
   "metadata": {
    "ExecuteTime": {
     "end_time": "2024-08-09T11:04:26.870860Z",
     "start_time": "2024-08-09T11:04:26.849814Z"
    }
   },
   "source": [
    "df42 = pd.read_table(filepath_or_buffer=capture_42, skiprows=10, nrows=100000)\n",
    "df42.columns=['ts',\n",
    "              'uid',\n",
    "              'id.orig_h',\n",
    "              'id.orig_p',\n",
    "              'id.resp_h',\n",
    "              'id.resp_p',\n",
    "              'proto',\n",
    "              'service',\n",
    "              'duration',\n",
    "              'orig_bytes',\n",
    "              'resp_bytes',\n",
    "              'conn_state',\n",
    "              'local_orig',\n",
    "              'local_resp',\n",
    "              'missed_bytes',\n",
    "              'history',\n",
    "              'orig_pkts',\n",
    "              'orig_ip_bytes',\n",
    "              'resp_pkts',\n",
    "              'resp_ip_bytes',\n",
    "              'label']\n",
    "df42.drop(df42.tail(1).index,inplace=True)"
   ],
   "outputs": [],
   "execution_count": 53
  },
  {
   "cell_type": "code",
   "id": "assured-cross",
   "metadata": {
    "ExecuteTime": {
     "end_time": "2024-08-09T11:04:27.116460Z",
     "start_time": "2024-08-09T11:04:26.871897Z"
    }
   },
   "source": [
    "df60 = pd.read_table(filepath_or_buffer=capture_60, skiprows=10, nrows=100000)\n",
    "df60.columns=['ts',\n",
    "              'uid',\n",
    "              'id.orig_h',\n",
    "              'id.orig_p',\n",
    "              'id.resp_h',\n",
    "              'id.resp_p',\n",
    "              'proto',\n",
    "              'service',\n",
    "              'duration',\n",
    "              'orig_bytes',\n",
    "              'resp_bytes',\n",
    "              'conn_state',\n",
    "              'local_orig',\n",
    "              'local_resp',\n",
    "              'missed_bytes',\n",
    "              'history',\n",
    "              'orig_pkts',\n",
    "              'orig_ip_bytes',\n",
    "              'resp_pkts',\n",
    "              'resp_ip_bytes',\n",
    "              'label']\n",
    "df60.drop(df60.tail(1).index,inplace=True)"
   ],
   "outputs": [],
   "execution_count": 54
  },
  {
   "cell_type": "code",
   "id": "selected-radical",
   "metadata": {
    "ExecuteTime": {
     "end_time": "2024-08-09T11:04:27.358878Z",
     "start_time": "2024-08-09T11:04:27.118464Z"
    }
   },
   "source": [
    "df17 = pd.read_table(filepath_or_buffer=capture_17, skiprows=10, nrows=100000)\n",
    "df17.columns=['ts',\n",
    "              'uid',\n",
    "              'id.orig_h',\n",
    "              'id.orig_p',\n",
    "              'id.resp_h',\n",
    "              'id.resp_p',\n",
    "              'proto',\n",
    "              'service',\n",
    "              'duration',\n",
    "              'orig_bytes',\n",
    "              'resp_bytes',\n",
    "              'conn_state',\n",
    "              'local_orig',\n",
    "              'local_resp',\n",
    "              'missed_bytes',\n",
    "              'history',\n",
    "              'orig_pkts',\n",
    "              'orig_ip_bytes',\n",
    "              'resp_pkts',\n",
    "              'resp_ip_bytes',\n",
    "              'label']\n",
    "df17.drop(df17.tail(1).index,inplace=True)"
   ],
   "outputs": [],
   "execution_count": 55
  },
  {
   "cell_type": "code",
   "id": "indirect-penetration",
   "metadata": {
    "ExecuteTime": {
     "end_time": "2024-08-09T11:04:27.608855Z",
     "start_time": "2024-08-09T11:04:27.359884Z"
    }
   },
   "source": [
    "df36 = pd.read_table(filepath_or_buffer=capture_36, skiprows=10, nrows=100000)\n",
    "df36.columns=['ts',\n",
    "              'uid',\n",
    "              'id.orig_h',\n",
    "              'id.orig_p',\n",
    "              'id.resp_h',\n",
    "              'id.resp_p',\n",
    "              'proto',\n",
    "              'service',\n",
    "              'duration',\n",
    "              'orig_bytes',\n",
    "              'resp_bytes',\n",
    "              'conn_state',\n",
    "              'local_orig',\n",
    "              'local_resp',\n",
    "              'missed_bytes',\n",
    "              'history',\n",
    "              'orig_pkts',\n",
    "              'orig_ip_bytes',\n",
    "              'resp_pkts',\n",
    "              'resp_ip_bytes',\n",
    "              'label']\n",
    "df36.drop(df36.tail(1).index,inplace=True)"
   ],
   "outputs": [],
   "execution_count": 56
  },
  {
   "cell_type": "code",
   "id": "respective-egyptian",
   "metadata": {
    "ExecuteTime": {
     "end_time": "2024-08-09T11:04:27.890450Z",
     "start_time": "2024-08-09T11:04:27.610371Z"
    }
   },
   "source": [
    "df33 = pd.read_table(filepath_or_buffer=capture_33, skiprows=10, nrows=100000)\n",
    "df33.columns=['ts',\n",
    "              'uid',\n",
    "              'id.orig_h',\n",
    "              'id.orig_p',\n",
    "              'id.resp_h',\n",
    "              'id.resp_p',\n",
    "              'proto',\n",
    "              'service',\n",
    "              'duration',\n",
    "              'orig_bytes',\n",
    "              'resp_bytes',\n",
    "              'conn_state',\n",
    "              'local_orig',\n",
    "              'local_resp',\n",
    "              'missed_bytes',\n",
    "              'history',\n",
    "              'orig_pkts',\n",
    "              'orig_ip_bytes',\n",
    "              'resp_pkts',\n",
    "              'resp_ip_bytes',\n",
    "              'label']\n",
    "df33.drop(df33.tail(1).index,inplace=True)"
   ],
   "outputs": [],
   "execution_count": 57
  },
  {
   "cell_type": "code",
   "id": "derived-tooth",
   "metadata": {
    "ExecuteTime": {
     "end_time": "2024-08-09T11:04:27.927110Z",
     "start_time": "2024-08-09T11:04:27.891458Z"
    }
   },
   "source": [
    "df8 = pd.read_table(filepath_or_buffer=capture_8, skiprows=10, nrows=100000)\n",
    "df8.columns=['ts',\n",
    "              'uid',\n",
    "              'id.orig_h',\n",
    "              'id.orig_p',\n",
    "              'id.resp_h',\n",
    "              'id.resp_p',\n",
    "              'proto',\n",
    "              'service',\n",
    "              'duration',\n",
    "              'orig_bytes',\n",
    "              'resp_bytes',\n",
    "              'conn_state',\n",
    "              'local_orig',\n",
    "              'local_resp',\n",
    "              'missed_bytes',\n",
    "              'history',\n",
    "              'orig_pkts',\n",
    "              'orig_ip_bytes',\n",
    "              'resp_pkts',\n",
    "              'resp_ip_bytes',\n",
    "              'label']\n",
    "df8.drop(df8.tail(1).index,inplace=True)"
   ],
   "outputs": [],
   "execution_count": 58
  },
  {
   "cell_type": "code",
   "id": "naval-reality",
   "metadata": {
    "ExecuteTime": {
     "end_time": "2024-08-09T11:04:28.178970Z",
     "start_time": "2024-08-09T11:04:27.928118Z"
    }
   },
   "source": [
    "df35 = pd.read_table(filepath_or_buffer=capture_35, skiprows=10, nrows=100000)\n",
    "df35.columns=['ts',\n",
    "              'uid',\n",
    "              'id.orig_h',\n",
    "              'id.orig_p',\n",
    "              'id.resp_h',\n",
    "              'id.resp_p',\n",
    "              'proto',\n",
    "              'service',\n",
    "              'duration',\n",
    "              'orig_bytes',\n",
    "              'resp_bytes',\n",
    "              'conn_state',\n",
    "              'local_orig',\n",
    "              'local_resp',\n",
    "              'missed_bytes',\n",
    "              'history',\n",
    "              'orig_pkts',\n",
    "              'orig_ip_bytes',\n",
    "              'resp_pkts',\n",
    "              'resp_ip_bytes',\n",
    "              'label']\n",
    "df35.drop(df35.tail(1).index,inplace=True)"
   ],
   "outputs": [],
   "execution_count": 59
  },
  {
   "cell_type": "code",
   "id": "occupied-angle",
   "metadata": {
    "ExecuteTime": {
     "end_time": "2024-08-09T11:04:28.395789Z",
     "start_time": "2024-08-09T11:04:28.179890Z"
    }
   },
   "source": [
    "df48 = pd.read_table(filepath_or_buffer=capture_48, skiprows=10, nrows=100000)\n",
    "df48.columns=['ts',\n",
    "              'uid',\n",
    "              'id.orig_h',\n",
    "              'id.orig_p',\n",
    "              'id.resp_h',\n",
    "              'id.resp_p',\n",
    "              'proto',\n",
    "              'service',\n",
    "              'duration',\n",
    "              'orig_bytes',\n",
    "              'resp_bytes',\n",
    "              'conn_state',\n",
    "              'local_orig',\n",
    "              'local_resp',\n",
    "              'missed_bytes',\n",
    "              'history',\n",
    "              'orig_pkts',\n",
    "              'orig_ip_bytes',\n",
    "              'resp_pkts',\n",
    "              'resp_ip_bytes',\n",
    "              'label']\n",
    "df48.drop(df48.tail(1).index,inplace=True)"
   ],
   "outputs": [],
   "execution_count": 60
  },
  {
   "cell_type": "code",
   "id": "widespread-machinery",
   "metadata": {
    "ExecuteTime": {
     "end_time": "2024-08-09T11:04:28.631450Z",
     "start_time": "2024-08-09T11:04:28.396797Z"
    }
   },
   "source": [
    "df39 = pd.read_table(filepath_or_buffer=capture_39, skiprows=10, nrows=100000)\n",
    "df39.columns=['ts',\n",
    "              'uid',\n",
    "              'id.orig_h',\n",
    "              'id.orig_p',\n",
    "              'id.resp_h',\n",
    "              'id.resp_p',\n",
    "              'proto',\n",
    "              'service',\n",
    "              'duration',\n",
    "              'orig_bytes',\n",
    "              'resp_bytes',\n",
    "              'conn_state',\n",
    "              'local_orig',\n",
    "              'local_resp',\n",
    "              'missed_bytes',\n",
    "              'history',\n",
    "              'orig_pkts',\n",
    "              'orig_ip_bytes',\n",
    "              'resp_pkts',\n",
    "              'resp_ip_bytes',\n",
    "              'label']\n",
    "df39.drop(df39.tail(1).index,inplace=True)"
   ],
   "outputs": [],
   "execution_count": 61
  },
  {
   "cell_type": "code",
   "id": "clear-bahrain",
   "metadata": {
    "ExecuteTime": {
     "end_time": "2024-08-09T11:04:28.858833Z",
     "start_time": "2024-08-09T11:04:28.632457Z"
    }
   },
   "source": [
    "df7 = pd.read_table(filepath_or_buffer=capture_7, skiprows=10, nrows=100000)\n",
    "df7.columns=['ts',\n",
    "              'uid',\n",
    "              'id.orig_h',\n",
    "              'id.orig_p',\n",
    "              'id.resp_h',\n",
    "              'id.resp_p',\n",
    "              'proto',\n",
    "              'service',\n",
    "              'duration',\n",
    "              'orig_bytes',\n",
    "              'resp_bytes',\n",
    "              'conn_state',\n",
    "              'local_orig',\n",
    "              'local_resp',\n",
    "              'missed_bytes',\n",
    "              'history',\n",
    "              'orig_pkts',\n",
    "              'orig_ip_bytes',\n",
    "              'resp_pkts',\n",
    "              'resp_ip_bytes',\n",
    "              'label']\n",
    "df7.drop(df7.tail(1).index,inplace=True)"
   ],
   "outputs": [],
   "execution_count": 62
  },
  {
   "cell_type": "code",
   "id": "improving-testimony",
   "metadata": {
    "ExecuteTime": {
     "end_time": "2024-08-09T11:04:29.096743Z",
     "start_time": "2024-08-09T11:04:28.859836Z"
    }
   },
   "source": [
    "df9 = pd.read_table(filepath_or_buffer=capture_9, skiprows=10, nrows=100000)\n",
    "df9.columns=['ts',\n",
    "              'uid',\n",
    "              'id.orig_h',\n",
    "              'id.orig_p',\n",
    "              'id.resp_h',\n",
    "              'id.resp_p',\n",
    "              'proto',\n",
    "              'service',\n",
    "              'duration',\n",
    "              'orig_bytes',\n",
    "              'resp_bytes',\n",
    "              'conn_state',\n",
    "              'local_orig',\n",
    "              'local_resp',\n",
    "              'missed_bytes',\n",
    "              'history',\n",
    "              'orig_pkts',\n",
    "              'orig_ip_bytes',\n",
    "              'resp_pkts',\n",
    "              'resp_ip_bytes',\n",
    "              'label']\n",
    "df9.drop(df9.tail(1).index,inplace=True)"
   ],
   "outputs": [],
   "execution_count": 63
  },
  {
   "cell_type": "code",
   "id": "overall-skirt",
   "metadata": {
    "ExecuteTime": {
     "end_time": "2024-08-09T11:04:29.333373Z",
     "start_time": "2024-08-09T11:04:29.097748Z"
    }
   },
   "source": [
    "df3 = pd.read_table(filepath_or_buffer=capture_3, skiprows=10, nrows=100000)\n",
    "df3.columns=['ts',\n",
    "              'uid',\n",
    "              'id.orig_h',\n",
    "              'id.orig_p',\n",
    "              'id.resp_h',\n",
    "              'id.resp_p',\n",
    "              'proto',\n",
    "              'service',\n",
    "              'duration',\n",
    "              'orig_bytes',\n",
    "              'resp_bytes',\n",
    "              'conn_state',\n",
    "              'local_orig',\n",
    "              'local_resp',\n",
    "              'missed_bytes',\n",
    "              'history',\n",
    "              'orig_pkts',\n",
    "              'orig_ip_bytes',\n",
    "              'resp_pkts',\n",
    "              'resp_ip_bytes',\n",
    "              'label']\n",
    "df3.drop(df3.tail(1).index,inplace=True)"
   ],
   "outputs": [],
   "execution_count": 64
  },
  {
   "cell_type": "code",
   "id": "unlimited-waters",
   "metadata": {
    "ExecuteTime": {
     "end_time": "2024-08-09T11:04:29.607233Z",
     "start_time": "2024-08-09T11:04:29.333880Z"
    }
   },
   "source": [
    "df1 = pd.read_table(filepath_or_buffer=capture_1, skiprows=10, nrows=100000)\n",
    "df1.columns=['ts',\n",
    "              'uid',\n",
    "              'id.orig_h',\n",
    "              'id.orig_p',\n",
    "              'id.resp_h',\n",
    "              'id.resp_p',\n",
    "              'proto',\n",
    "              'service',\n",
    "              'duration',\n",
    "              'orig_bytes',\n",
    "              'resp_bytes',\n",
    "              'conn_state',\n",
    "              'local_orig',\n",
    "              'local_resp',\n",
    "              'missed_bytes',\n",
    "              'history',\n",
    "              'orig_pkts',\n",
    "              'orig_ip_bytes',\n",
    "              'resp_pkts',\n",
    "              'resp_ip_bytes',\n",
    "              'label']\n",
    "df1.drop(df1.tail(1).index,inplace=True)"
   ],
   "outputs": [],
   "execution_count": 65
  },
  {
   "cell_type": "code",
   "id": "indirect-plymouth",
   "metadata": {
    "ExecuteTime": {
     "end_time": "2024-08-09T11:04:29.663715Z",
     "start_time": "2024-08-09T11:04:29.608237Z"
    }
   },
   "source": [
    "frames=[df1, df17, df20, df21, df3, df33, df34, df35, df36, df39, df42, df43, df44, df48, df49, df52, df60, df7, df8, df9]"
   ],
   "outputs": [],
   "execution_count": 66
  },
  {
   "cell_type": "code",
   "id": "union-telling",
   "metadata": {
    "ExecuteTime": {
     "end_time": "2024-08-09T11:04:29.799317Z",
     "start_time": "2024-08-09T11:04:29.663715Z"
    }
   },
   "source": [
    "df_c=pd.concat(frames)"
   ],
   "outputs": [],
   "execution_count": 67
  },
  {
   "cell_type": "code",
   "id": "liberal-valley",
   "metadata": {
    "scrolled": false,
    "ExecuteTime": {
     "end_time": "2024-08-09T11:04:29.817115Z",
     "start_time": "2024-08-09T11:04:29.800324Z"
    }
   },
   "source": [
    "df_c"
   ],
   "outputs": [
    {
     "data": {
      "text/plain": "                      ts                 uid        id.orig_h  id.orig_p  \\\n0       1525879832.01624   CDe43c1PtgynajGI6  192.168.100.103    60905.0   \n1      1525879832.024985  CJaDcG3MZzvf1YVYI4  192.168.100.103    44301.0   \n2      1525879832.044975  CMBrup3BLXivSp4Avc  192.168.100.103    50244.0   \n3      1525879833.016171  CfHl9r3XMYtDQRrHnh  192.168.100.103    34243.0   \n4      1525879833.044906  C7USrA15nFVkniMqC5  192.168.100.103    34840.0   \n...                  ...                 ...              ...        ...   \n99994  1532526102.004508  CMeH6R2aua5c5Dd65a  192.168.100.111    41762.0   \n99995   1532526102.00451  CvqGx33hsXDpDVXa1i  192.168.100.111    58758.0   \n99996  1532526102.004511   CC83RoUd9RLFuTL81  192.168.100.111    40400.0   \n99997  1532526102.004752  C4ISld2cuSukEEuQtk  192.168.100.111    27117.0   \n99998  1532526102.004756   C4U1azYmDx32faVY7  192.168.100.111    23227.0   \n\n             id.resp_h  id.resp_p proto service  duration orig_bytes  \\\n0      131.174.215.147       23.0   tcp       -  2.998796          0   \n1          91.42.47.63       23.0   tcp       -         -          -   \n2      120.210.108.200       23.0   tcp       -         -          -   \n3         147.7.65.203    49560.0   tcp       -  2.998804          0   \n4         145.164.35.6    21288.0   tcp       -         -          -   \n...                ...        ...   ...     ...       ...        ...   \n99994  221.182.209.127       23.0   tcp       -         -          -   \n99995    208.50.139.48       23.0   tcp       -         -          -   \n99996     40.95.136.51       23.0   tcp       -         -          -   \n99997   122.37.183.236       23.0   tcp       -         -          -   \n99998   189.62.234.179       23.0   tcp       -         -          -   \n\n      resp_bytes conn_state local_orig local_resp  missed_bytes history  \\\n0              0         S0          -          -           0.0       S   \n1              -         S0          -          -           0.0       S   \n2              -         S0          -          -           0.0       S   \n3              0         S0          -          -           0.0       S   \n4              -         S0          -          -           0.0       S   \n...          ...        ...        ...        ...           ...     ...   \n99994          -         S0          -          -           0.0       S   \n99995          -         S0          -          -           0.0       S   \n99996          -         S0          -          -           0.0       S   \n99997          -         S0          -          -           0.0       S   \n99998          -         S0          -          -           0.0       S   \n\n       orig_pkts  orig_ip_bytes  resp_pkts  resp_ip_bytes  \\\n0            3.0          180.0        0.0            0.0   \n1            1.0           60.0        0.0            0.0   \n2            1.0           60.0        0.0            0.0   \n3            3.0          180.0        0.0            0.0   \n4            1.0           60.0        0.0            0.0   \n...          ...            ...        ...            ...   \n99994        1.0           40.0        0.0            0.0   \n99995        1.0           40.0        0.0            0.0   \n99996        1.0           40.0        0.0            0.0   \n99997        1.0           40.0        0.0            0.0   \n99998        1.0           40.0        0.0            0.0   \n\n                                                 label  \n0      (empty)   Malicious   PartOfAHorizontalPortScan  \n1      (empty)   Malicious   PartOfAHorizontalPortScan  \n2      (empty)   Malicious   PartOfAHorizontalPortScan  \n3                                 (empty)   Benign   -  \n4                                 (empty)   Benign   -  \n...                                                ...  \n99994  (empty)   Malicious   PartOfAHorizontalPortScan  \n99995  (empty)   Malicious   PartOfAHorizontalPortScan  \n99996  (empty)   Malicious   PartOfAHorizontalPortScan  \n99997  (empty)   Malicious   PartOfAHorizontalPortScan  \n99998  (empty)   Malicious   PartOfAHorizontalPortScan  \n\n[1444674 rows x 21 columns]",
      "text/html": "<div>\n<style scoped>\n    .dataframe tbody tr th:only-of-type {\n        vertical-align: middle;\n    }\n\n    .dataframe tbody tr th {\n        vertical-align: top;\n    }\n\n    .dataframe thead th {\n        text-align: right;\n    }\n</style>\n<table border=\"1\" class=\"dataframe\">\n  <thead>\n    <tr style=\"text-align: right;\">\n      <th></th>\n      <th>ts</th>\n      <th>uid</th>\n      <th>id.orig_h</th>\n      <th>id.orig_p</th>\n      <th>id.resp_h</th>\n      <th>id.resp_p</th>\n      <th>proto</th>\n      <th>service</th>\n      <th>duration</th>\n      <th>orig_bytes</th>\n      <th>resp_bytes</th>\n      <th>conn_state</th>\n      <th>local_orig</th>\n      <th>local_resp</th>\n      <th>missed_bytes</th>\n      <th>history</th>\n      <th>orig_pkts</th>\n      <th>orig_ip_bytes</th>\n      <th>resp_pkts</th>\n      <th>resp_ip_bytes</th>\n      <th>label</th>\n    </tr>\n  </thead>\n  <tbody>\n    <tr>\n      <th>0</th>\n      <td>1525879832.01624</td>\n      <td>CDe43c1PtgynajGI6</td>\n      <td>192.168.100.103</td>\n      <td>60905.0</td>\n      <td>131.174.215.147</td>\n      <td>23.0</td>\n      <td>tcp</td>\n      <td>-</td>\n      <td>2.998796</td>\n      <td>0</td>\n      <td>0</td>\n      <td>S0</td>\n      <td>-</td>\n      <td>-</td>\n      <td>0.0</td>\n      <td>S</td>\n      <td>3.0</td>\n      <td>180.0</td>\n      <td>0.0</td>\n      <td>0.0</td>\n      <td>(empty)   Malicious   PartOfAHorizontalPortScan</td>\n    </tr>\n    <tr>\n      <th>1</th>\n      <td>1525879832.024985</td>\n      <td>CJaDcG3MZzvf1YVYI4</td>\n      <td>192.168.100.103</td>\n      <td>44301.0</td>\n      <td>91.42.47.63</td>\n      <td>23.0</td>\n      <td>tcp</td>\n      <td>-</td>\n      <td>-</td>\n      <td>-</td>\n      <td>-</td>\n      <td>S0</td>\n      <td>-</td>\n      <td>-</td>\n      <td>0.0</td>\n      <td>S</td>\n      <td>1.0</td>\n      <td>60.0</td>\n      <td>0.0</td>\n      <td>0.0</td>\n      <td>(empty)   Malicious   PartOfAHorizontalPortScan</td>\n    </tr>\n    <tr>\n      <th>2</th>\n      <td>1525879832.044975</td>\n      <td>CMBrup3BLXivSp4Avc</td>\n      <td>192.168.100.103</td>\n      <td>50244.0</td>\n      <td>120.210.108.200</td>\n      <td>23.0</td>\n      <td>tcp</td>\n      <td>-</td>\n      <td>-</td>\n      <td>-</td>\n      <td>-</td>\n      <td>S0</td>\n      <td>-</td>\n      <td>-</td>\n      <td>0.0</td>\n      <td>S</td>\n      <td>1.0</td>\n      <td>60.0</td>\n      <td>0.0</td>\n      <td>0.0</td>\n      <td>(empty)   Malicious   PartOfAHorizontalPortScan</td>\n    </tr>\n    <tr>\n      <th>3</th>\n      <td>1525879833.016171</td>\n      <td>CfHl9r3XMYtDQRrHnh</td>\n      <td>192.168.100.103</td>\n      <td>34243.0</td>\n      <td>147.7.65.203</td>\n      <td>49560.0</td>\n      <td>tcp</td>\n      <td>-</td>\n      <td>2.998804</td>\n      <td>0</td>\n      <td>0</td>\n      <td>S0</td>\n      <td>-</td>\n      <td>-</td>\n      <td>0.0</td>\n      <td>S</td>\n      <td>3.0</td>\n      <td>180.0</td>\n      <td>0.0</td>\n      <td>0.0</td>\n      <td>(empty)   Benign   -</td>\n    </tr>\n    <tr>\n      <th>4</th>\n      <td>1525879833.044906</td>\n      <td>C7USrA15nFVkniMqC5</td>\n      <td>192.168.100.103</td>\n      <td>34840.0</td>\n      <td>145.164.35.6</td>\n      <td>21288.0</td>\n      <td>tcp</td>\n      <td>-</td>\n      <td>-</td>\n      <td>-</td>\n      <td>-</td>\n      <td>S0</td>\n      <td>-</td>\n      <td>-</td>\n      <td>0.0</td>\n      <td>S</td>\n      <td>1.0</td>\n      <td>60.0</td>\n      <td>0.0</td>\n      <td>0.0</td>\n      <td>(empty)   Benign   -</td>\n    </tr>\n    <tr>\n      <th>...</th>\n      <td>...</td>\n      <td>...</td>\n      <td>...</td>\n      <td>...</td>\n      <td>...</td>\n      <td>...</td>\n      <td>...</td>\n      <td>...</td>\n      <td>...</td>\n      <td>...</td>\n      <td>...</td>\n      <td>...</td>\n      <td>...</td>\n      <td>...</td>\n      <td>...</td>\n      <td>...</td>\n      <td>...</td>\n      <td>...</td>\n      <td>...</td>\n      <td>...</td>\n      <td>...</td>\n    </tr>\n    <tr>\n      <th>99994</th>\n      <td>1532526102.004508</td>\n      <td>CMeH6R2aua5c5Dd65a</td>\n      <td>192.168.100.111</td>\n      <td>41762.0</td>\n      <td>221.182.209.127</td>\n      <td>23.0</td>\n      <td>tcp</td>\n      <td>-</td>\n      <td>-</td>\n      <td>-</td>\n      <td>-</td>\n      <td>S0</td>\n      <td>-</td>\n      <td>-</td>\n      <td>0.0</td>\n      <td>S</td>\n      <td>1.0</td>\n      <td>40.0</td>\n      <td>0.0</td>\n      <td>0.0</td>\n      <td>(empty)   Malicious   PartOfAHorizontalPortScan</td>\n    </tr>\n    <tr>\n      <th>99995</th>\n      <td>1532526102.00451</td>\n      <td>CvqGx33hsXDpDVXa1i</td>\n      <td>192.168.100.111</td>\n      <td>58758.0</td>\n      <td>208.50.139.48</td>\n      <td>23.0</td>\n      <td>tcp</td>\n      <td>-</td>\n      <td>-</td>\n      <td>-</td>\n      <td>-</td>\n      <td>S0</td>\n      <td>-</td>\n      <td>-</td>\n      <td>0.0</td>\n      <td>S</td>\n      <td>1.0</td>\n      <td>40.0</td>\n      <td>0.0</td>\n      <td>0.0</td>\n      <td>(empty)   Malicious   PartOfAHorizontalPortScan</td>\n    </tr>\n    <tr>\n      <th>99996</th>\n      <td>1532526102.004511</td>\n      <td>CC83RoUd9RLFuTL81</td>\n      <td>192.168.100.111</td>\n      <td>40400.0</td>\n      <td>40.95.136.51</td>\n      <td>23.0</td>\n      <td>tcp</td>\n      <td>-</td>\n      <td>-</td>\n      <td>-</td>\n      <td>-</td>\n      <td>S0</td>\n      <td>-</td>\n      <td>-</td>\n      <td>0.0</td>\n      <td>S</td>\n      <td>1.0</td>\n      <td>40.0</td>\n      <td>0.0</td>\n      <td>0.0</td>\n      <td>(empty)   Malicious   PartOfAHorizontalPortScan</td>\n    </tr>\n    <tr>\n      <th>99997</th>\n      <td>1532526102.004752</td>\n      <td>C4ISld2cuSukEEuQtk</td>\n      <td>192.168.100.111</td>\n      <td>27117.0</td>\n      <td>122.37.183.236</td>\n      <td>23.0</td>\n      <td>tcp</td>\n      <td>-</td>\n      <td>-</td>\n      <td>-</td>\n      <td>-</td>\n      <td>S0</td>\n      <td>-</td>\n      <td>-</td>\n      <td>0.0</td>\n      <td>S</td>\n      <td>1.0</td>\n      <td>40.0</td>\n      <td>0.0</td>\n      <td>0.0</td>\n      <td>(empty)   Malicious   PartOfAHorizontalPortScan</td>\n    </tr>\n    <tr>\n      <th>99998</th>\n      <td>1532526102.004756</td>\n      <td>C4U1azYmDx32faVY7</td>\n      <td>192.168.100.111</td>\n      <td>23227.0</td>\n      <td>189.62.234.179</td>\n      <td>23.0</td>\n      <td>tcp</td>\n      <td>-</td>\n      <td>-</td>\n      <td>-</td>\n      <td>-</td>\n      <td>S0</td>\n      <td>-</td>\n      <td>-</td>\n      <td>0.0</td>\n      <td>S</td>\n      <td>1.0</td>\n      <td>40.0</td>\n      <td>0.0</td>\n      <td>0.0</td>\n      <td>(empty)   Malicious   PartOfAHorizontalPortScan</td>\n    </tr>\n  </tbody>\n</table>\n<p>1444674 rows × 21 columns</p>\n</div>"
     },
     "execution_count": 68,
     "metadata": {},
     "output_type": "execute_result"
    }
   ],
   "execution_count": 68
  },
  {
   "cell_type": "code",
   "id": "silver-royal",
   "metadata": {
    "ExecuteTime": {
     "end_time": "2024-08-09T11:04:29.822188Z",
     "start_time": "2024-08-09T11:04:29.818120Z"
    }
   },
   "source": [
    "df_c.shape"
   ],
   "outputs": [
    {
     "data": {
      "text/plain": "(1444674, 21)"
     },
     "execution_count": 69,
     "metadata": {},
     "output_type": "execute_result"
    }
   ],
   "execution_count": 69
  },
  {
   "cell_type": "code",
   "id": "rural-buffer",
   "metadata": {
    "ExecuteTime": {
     "end_time": "2024-08-09T11:04:29.894219Z",
     "start_time": "2024-08-09T11:04:29.822188Z"
    }
   },
   "source": [
    "df_c['label'].value_counts()"
   ],
   "outputs": [
    {
     "data": {
      "text/plain": "label\n-   Malicious   PartOfAHorizontalPortScan          578916\n(empty)   Malicious   PartOfAHorizontalPortScan    247023\n-   Malicious   Okiru                              163016\n-   Benign   -                                     146275\n-   Malicious   DDoS                               138777\n(empty)   Malicious   Okiru                         99674\n(empty)   Benign   -                                51534\n(empty)   Malicious   C&C                            8229\n-   Malicious   C&C                                  6871\n(empty)   Malicious   Attack                         3814\n-   Malicious   C&C-HeartBeat                         227\n(empty)   Malicious   C&C-HeartBeat                   122\n-   Malicious   Attack                                101\n-   Malicious   C&C-FileDownload                       43\n-   Malicious   C&C-Torii                              30\n-   Malicious   FileDownload                           13\n-   Malicious   C&C-HeartBeat-FileDownload              8\n-   Malicious   C&C-Mirai                               1\nName: count, dtype: int64"
     },
     "execution_count": 70,
     "metadata": {},
     "output_type": "execute_result"
    }
   ],
   "execution_count": 70
  },
  {
   "cell_type": "code",
   "id": "tired-independence",
   "metadata": {
    "ExecuteTime": {
     "end_time": "2024-08-09T11:04:31.303550Z",
     "start_time": "2024-08-09T11:04:29.895228Z"
    }
   },
   "source": [
    "df_c.loc[(df_c.label == '-   Malicious   PartOfAHorizontalPortScan'), 'label'] = 'PartOfAHorizontalPortScan'\n",
    "df_c.loc[(df_c.label == '(empty)   Malicious   PartOfAHorizontalPortScan'), 'label'] = 'PartOfAHorizontalPortScan'\n",
    "df_c.loc[(df_c.label == '-   Malicious   Okiru'), 'label'] = 'Okiru'\n",
    "df_c.loc[(df_c.label == '(empty)   Malicious   Okiru'), 'label'] = 'Okiru'\n",
    "df_c.loc[(df_c.label == '-   Benign   -'), 'label'] = 'Benign'\n",
    "df_c.loc[(df_c.label == '(empty)   Benign   -'), 'label'] = 'Benign'\n",
    "df_c.loc[(df_c.label == '-   Malicious   DDoS'), 'label'] = 'DDoS'\n",
    "df_c.loc[(df_c.label == '-   Malicious   C&C'), 'label'] = 'C&C'\n",
    "df_c.loc[(df_c.label == '(empty)   Malicious   C&C'), 'label'] = 'C&C'\n",
    "df_c.loc[(df_c.label == '-   Malicious   Attack'), 'label'] = 'Attack'\n",
    "df_c.loc[(df_c.label == '(empty)   Malicious   Attack'), 'label'] = 'Attack'\n",
    "df_c.loc[(df_c.label == '-   Malicious   C&C-HeartBeat'), 'label'] = 'C&C-HeartBeat'\n",
    "df_c.loc[(df_c.label == '(empty)   Malicious   C&C-HeartBeat'), 'label'] = 'C&C-HeartBeat'\n",
    "df_c.loc[(df_c.label == '-   Malicious   C&C-FileDownload'), 'label'] = 'C&C-FileDownload'\n",
    "df_c.loc[(df_c.label == '-   Malicious   C&C-Torii'), 'label'] = 'C&C-Torii'\n",
    "df_c.loc[(df_c.label == '-   Malicious   C&C-HeartBeat-FileDownload'), 'label'] = 'C&C-HeartBeat-FileDownload'\n",
    "df_c.loc[(df_c.label == '-   Malicious   FileDownload'), 'label'] = 'FileDownload'\n",
    "df_c.loc[(df_c.label == '-   Malicious   C&C-Mirai'), 'label'] = 'C&C-Mirai'\n",
    "df_c.loc[(df_c.label == '-   Malicious   Okiru-Attack'), 'label'] = 'Okiru-Attack'"
   ],
   "outputs": [],
   "execution_count": 71
  },
  {
   "cell_type": "markdown",
   "id": "adjacent-desperate",
   "metadata": {},
   "source": [
    "13 types of malicious attack"
   ]
  },
  {
   "cell_type": "code",
   "id": "wanted-might",
   "metadata": {
    "ExecuteTime": {
     "end_time": "2024-08-09T11:04:31.354790Z",
     "start_time": "2024-08-09T11:04:31.304558Z"
    }
   },
   "source": [
    "df_c['label'].value_counts()"
   ],
   "outputs": [
    {
     "data": {
      "text/plain": "label\nPartOfAHorizontalPortScan     825939\nOkiru                         262690\nBenign                        197809\nDDoS                          138777\nC&C                            15100\nAttack                          3915\nC&C-HeartBeat                    349\nC&C-FileDownload                  43\nC&C-Torii                         30\nFileDownload                      13\nC&C-HeartBeat-FileDownload         8\nC&C-Mirai                          1\nName: count, dtype: int64"
     },
     "execution_count": 72,
     "metadata": {},
     "output_type": "execute_result"
    }
   ],
   "execution_count": 72
  },
  {
   "cell_type": "code",
   "id": "champion-lawrence",
   "metadata": {
    "ExecuteTime": {
     "end_time": "2024-08-09T11:04:31.361436Z",
     "start_time": "2024-08-09T11:04:31.357795Z"
    }
   },
   "source": [
    "pd.options.display.max_rows = 300\n",
    "pd.options.display.max_columns = 300"
   ],
   "outputs": [],
   "execution_count": 73
  },
  {
   "cell_type": "code",
   "id": "modular-principle",
   "metadata": {
    "ExecuteTime": {
     "end_time": "2024-08-09T11:04:31.425678Z",
     "start_time": "2024-08-09T11:04:31.362445Z"
    }
   },
   "source": [
    "df_c = df_c.drop(columns=['ts','uid','id.orig_h','id.orig_p','id.resp_h','id.resp_p',\n",
    "                               'service','local_orig','local_resp','history'])"
   ],
   "outputs": [],
   "execution_count": 74
  },
  {
   "cell_type": "code",
   "id": "planned-deadline",
   "metadata": {
    "ExecuteTime": {
     "end_time": "2024-08-09T11:04:31.877090Z",
     "start_time": "2024-08-09T11:04:31.426686Z"
    }
   },
   "source": [
    "df_c = pd.get_dummies(df_c, columns=['proto'])\n",
    "df_c = pd.get_dummies(df_c, columns=['conn_state'])"
   ],
   "outputs": [],
   "execution_count": 75
  },
  {
   "cell_type": "code",
   "id": "arabic-obligation",
   "metadata": {
    "ExecuteTime": {
     "end_time": "2024-08-09T11:04:31.895771Z",
     "start_time": "2024-08-09T11:04:31.878097Z"
    }
   },
   "source": [
    "df_c"
   ],
   "outputs": [
    {
     "data": {
      "text/plain": "       duration orig_bytes resp_bytes  missed_bytes  orig_pkts  orig_ip_bytes  \\\n0      2.998796          0          0           0.0        3.0          180.0   \n1             -          -          -           0.0        1.0           60.0   \n2             -          -          -           0.0        1.0           60.0   \n3      2.998804          0          0           0.0        3.0          180.0   \n4             -          -          -           0.0        1.0           60.0   \n...         ...        ...        ...           ...        ...            ...   \n99994         -          -          -           0.0        1.0           40.0   \n99995         -          -          -           0.0        1.0           40.0   \n99996         -          -          -           0.0        1.0           40.0   \n99997         -          -          -           0.0        1.0           40.0   \n99998         -          -          -           0.0        1.0           40.0   \n\n       resp_pkts  resp_ip_bytes                      label  proto_icmp  \\\n0            0.0            0.0  PartOfAHorizontalPortScan       False   \n1            0.0            0.0  PartOfAHorizontalPortScan       False   \n2            0.0            0.0  PartOfAHorizontalPortScan       False   \n3            0.0            0.0                     Benign       False   \n4            0.0            0.0                     Benign       False   \n...          ...            ...                        ...         ...   \n99994        0.0            0.0  PartOfAHorizontalPortScan       False   \n99995        0.0            0.0  PartOfAHorizontalPortScan       False   \n99996        0.0            0.0  PartOfAHorizontalPortScan       False   \n99997        0.0            0.0  PartOfAHorizontalPortScan       False   \n99998        0.0            0.0  PartOfAHorizontalPortScan       False   \n\n       proto_tcp  proto_udp  conn_state_OTH  conn_state_REJ  conn_state_RSTO  \\\n0           True      False           False           False            False   \n1           True      False           False           False            False   \n2           True      False           False           False            False   \n3           True      False           False           False            False   \n4           True      False           False           False            False   \n...          ...        ...             ...             ...              ...   \n99994       True      False           False           False            False   \n99995       True      False           False           False            False   \n99996       True      False           False           False            False   \n99997       True      False           False           False            False   \n99998       True      False           False           False            False   \n\n       conn_state_RSTOS0  conn_state_RSTR  conn_state_RSTRH  conn_state_S0  \\\n0                  False            False             False           True   \n1                  False            False             False           True   \n2                  False            False             False           True   \n3                  False            False             False           True   \n4                  False            False             False           True   \n...                  ...              ...               ...            ...   \n99994              False            False             False           True   \n99995              False            False             False           True   \n99996              False            False             False           True   \n99997              False            False             False           True   \n99998              False            False             False           True   \n\n       conn_state_S1  conn_state_S2  conn_state_S3  conn_state_SF  \\\n0              False          False          False          False   \n1              False          False          False          False   \n2              False          False          False          False   \n3              False          False          False          False   \n4              False          False          False          False   \n...              ...            ...            ...            ...   \n99994          False          False          False          False   \n99995          False          False          False          False   \n99996          False          False          False          False   \n99997          False          False          False          False   \n99998          False          False          False          False   \n\n       conn_state_SH  conn_state_SHR  \n0              False           False  \n1              False           False  \n2              False           False  \n3              False           False  \n4              False           False  \n...              ...             ...  \n99994          False           False  \n99995          False           False  \n99996          False           False  \n99997          False           False  \n99998          False           False  \n\n[1444674 rows x 25 columns]",
      "text/html": "<div>\n<style scoped>\n    .dataframe tbody tr th:only-of-type {\n        vertical-align: middle;\n    }\n\n    .dataframe tbody tr th {\n        vertical-align: top;\n    }\n\n    .dataframe thead th {\n        text-align: right;\n    }\n</style>\n<table border=\"1\" class=\"dataframe\">\n  <thead>\n    <tr style=\"text-align: right;\">\n      <th></th>\n      <th>duration</th>\n      <th>orig_bytes</th>\n      <th>resp_bytes</th>\n      <th>missed_bytes</th>\n      <th>orig_pkts</th>\n      <th>orig_ip_bytes</th>\n      <th>resp_pkts</th>\n      <th>resp_ip_bytes</th>\n      <th>label</th>\n      <th>proto_icmp</th>\n      <th>proto_tcp</th>\n      <th>proto_udp</th>\n      <th>conn_state_OTH</th>\n      <th>conn_state_REJ</th>\n      <th>conn_state_RSTO</th>\n      <th>conn_state_RSTOS0</th>\n      <th>conn_state_RSTR</th>\n      <th>conn_state_RSTRH</th>\n      <th>conn_state_S0</th>\n      <th>conn_state_S1</th>\n      <th>conn_state_S2</th>\n      <th>conn_state_S3</th>\n      <th>conn_state_SF</th>\n      <th>conn_state_SH</th>\n      <th>conn_state_SHR</th>\n    </tr>\n  </thead>\n  <tbody>\n    <tr>\n      <th>0</th>\n      <td>2.998796</td>\n      <td>0</td>\n      <td>0</td>\n      <td>0.0</td>\n      <td>3.0</td>\n      <td>180.0</td>\n      <td>0.0</td>\n      <td>0.0</td>\n      <td>PartOfAHorizontalPortScan</td>\n      <td>False</td>\n      <td>True</td>\n      <td>False</td>\n      <td>False</td>\n      <td>False</td>\n      <td>False</td>\n      <td>False</td>\n      <td>False</td>\n      <td>False</td>\n      <td>True</td>\n      <td>False</td>\n      <td>False</td>\n      <td>False</td>\n      <td>False</td>\n      <td>False</td>\n      <td>False</td>\n    </tr>\n    <tr>\n      <th>1</th>\n      <td>-</td>\n      <td>-</td>\n      <td>-</td>\n      <td>0.0</td>\n      <td>1.0</td>\n      <td>60.0</td>\n      <td>0.0</td>\n      <td>0.0</td>\n      <td>PartOfAHorizontalPortScan</td>\n      <td>False</td>\n      <td>True</td>\n      <td>False</td>\n      <td>False</td>\n      <td>False</td>\n      <td>False</td>\n      <td>False</td>\n      <td>False</td>\n      <td>False</td>\n      <td>True</td>\n      <td>False</td>\n      <td>False</td>\n      <td>False</td>\n      <td>False</td>\n      <td>False</td>\n      <td>False</td>\n    </tr>\n    <tr>\n      <th>2</th>\n      <td>-</td>\n      <td>-</td>\n      <td>-</td>\n      <td>0.0</td>\n      <td>1.0</td>\n      <td>60.0</td>\n      <td>0.0</td>\n      <td>0.0</td>\n      <td>PartOfAHorizontalPortScan</td>\n      <td>False</td>\n      <td>True</td>\n      <td>False</td>\n      <td>False</td>\n      <td>False</td>\n      <td>False</td>\n      <td>False</td>\n      <td>False</td>\n      <td>False</td>\n      <td>True</td>\n      <td>False</td>\n      <td>False</td>\n      <td>False</td>\n      <td>False</td>\n      <td>False</td>\n      <td>False</td>\n    </tr>\n    <tr>\n      <th>3</th>\n      <td>2.998804</td>\n      <td>0</td>\n      <td>0</td>\n      <td>0.0</td>\n      <td>3.0</td>\n      <td>180.0</td>\n      <td>0.0</td>\n      <td>0.0</td>\n      <td>Benign</td>\n      <td>False</td>\n      <td>True</td>\n      <td>False</td>\n      <td>False</td>\n      <td>False</td>\n      <td>False</td>\n      <td>False</td>\n      <td>False</td>\n      <td>False</td>\n      <td>True</td>\n      <td>False</td>\n      <td>False</td>\n      <td>False</td>\n      <td>False</td>\n      <td>False</td>\n      <td>False</td>\n    </tr>\n    <tr>\n      <th>4</th>\n      <td>-</td>\n      <td>-</td>\n      <td>-</td>\n      <td>0.0</td>\n      <td>1.0</td>\n      <td>60.0</td>\n      <td>0.0</td>\n      <td>0.0</td>\n      <td>Benign</td>\n      <td>False</td>\n      <td>True</td>\n      <td>False</td>\n      <td>False</td>\n      <td>False</td>\n      <td>False</td>\n      <td>False</td>\n      <td>False</td>\n      <td>False</td>\n      <td>True</td>\n      <td>False</td>\n      <td>False</td>\n      <td>False</td>\n      <td>False</td>\n      <td>False</td>\n      <td>False</td>\n    </tr>\n    <tr>\n      <th>...</th>\n      <td>...</td>\n      <td>...</td>\n      <td>...</td>\n      <td>...</td>\n      <td>...</td>\n      <td>...</td>\n      <td>...</td>\n      <td>...</td>\n      <td>...</td>\n      <td>...</td>\n      <td>...</td>\n      <td>...</td>\n      <td>...</td>\n      <td>...</td>\n      <td>...</td>\n      <td>...</td>\n      <td>...</td>\n      <td>...</td>\n      <td>...</td>\n      <td>...</td>\n      <td>...</td>\n      <td>...</td>\n      <td>...</td>\n      <td>...</td>\n      <td>...</td>\n    </tr>\n    <tr>\n      <th>99994</th>\n      <td>-</td>\n      <td>-</td>\n      <td>-</td>\n      <td>0.0</td>\n      <td>1.0</td>\n      <td>40.0</td>\n      <td>0.0</td>\n      <td>0.0</td>\n      <td>PartOfAHorizontalPortScan</td>\n      <td>False</td>\n      <td>True</td>\n      <td>False</td>\n      <td>False</td>\n      <td>False</td>\n      <td>False</td>\n      <td>False</td>\n      <td>False</td>\n      <td>False</td>\n      <td>True</td>\n      <td>False</td>\n      <td>False</td>\n      <td>False</td>\n      <td>False</td>\n      <td>False</td>\n      <td>False</td>\n    </tr>\n    <tr>\n      <th>99995</th>\n      <td>-</td>\n      <td>-</td>\n      <td>-</td>\n      <td>0.0</td>\n      <td>1.0</td>\n      <td>40.0</td>\n      <td>0.0</td>\n      <td>0.0</td>\n      <td>PartOfAHorizontalPortScan</td>\n      <td>False</td>\n      <td>True</td>\n      <td>False</td>\n      <td>False</td>\n      <td>False</td>\n      <td>False</td>\n      <td>False</td>\n      <td>False</td>\n      <td>False</td>\n      <td>True</td>\n      <td>False</td>\n      <td>False</td>\n      <td>False</td>\n      <td>False</td>\n      <td>False</td>\n      <td>False</td>\n    </tr>\n    <tr>\n      <th>99996</th>\n      <td>-</td>\n      <td>-</td>\n      <td>-</td>\n      <td>0.0</td>\n      <td>1.0</td>\n      <td>40.0</td>\n      <td>0.0</td>\n      <td>0.0</td>\n      <td>PartOfAHorizontalPortScan</td>\n      <td>False</td>\n      <td>True</td>\n      <td>False</td>\n      <td>False</td>\n      <td>False</td>\n      <td>False</td>\n      <td>False</td>\n      <td>False</td>\n      <td>False</td>\n      <td>True</td>\n      <td>False</td>\n      <td>False</td>\n      <td>False</td>\n      <td>False</td>\n      <td>False</td>\n      <td>False</td>\n    </tr>\n    <tr>\n      <th>99997</th>\n      <td>-</td>\n      <td>-</td>\n      <td>-</td>\n      <td>0.0</td>\n      <td>1.0</td>\n      <td>40.0</td>\n      <td>0.0</td>\n      <td>0.0</td>\n      <td>PartOfAHorizontalPortScan</td>\n      <td>False</td>\n      <td>True</td>\n      <td>False</td>\n      <td>False</td>\n      <td>False</td>\n      <td>False</td>\n      <td>False</td>\n      <td>False</td>\n      <td>False</td>\n      <td>True</td>\n      <td>False</td>\n      <td>False</td>\n      <td>False</td>\n      <td>False</td>\n      <td>False</td>\n      <td>False</td>\n    </tr>\n    <tr>\n      <th>99998</th>\n      <td>-</td>\n      <td>-</td>\n      <td>-</td>\n      <td>0.0</td>\n      <td>1.0</td>\n      <td>40.0</td>\n      <td>0.0</td>\n      <td>0.0</td>\n      <td>PartOfAHorizontalPortScan</td>\n      <td>False</td>\n      <td>True</td>\n      <td>False</td>\n      <td>False</td>\n      <td>False</td>\n      <td>False</td>\n      <td>False</td>\n      <td>False</td>\n      <td>False</td>\n      <td>True</td>\n      <td>False</td>\n      <td>False</td>\n      <td>False</td>\n      <td>False</td>\n      <td>False</td>\n      <td>False</td>\n    </tr>\n  </tbody>\n</table>\n<p>1444674 rows × 25 columns</p>\n</div>"
     },
     "execution_count": 76,
     "metadata": {},
     "output_type": "execute_result"
    }
   ],
   "execution_count": 76
  },
  {
   "cell_type": "code",
   "id": "appointed-absorption",
   "metadata": {
    "ExecuteTime": {
     "end_time": "2024-08-09T11:04:33.798601Z",
     "start_time": "2024-08-09T11:04:31.896778Z"
    }
   },
   "source": [
    "df_c['duration'] = df_c['duration'].str.replace('-','0')\n",
    "df_c['orig_bytes'] = df_c['orig_bytes'].str.replace('-','0')\n",
    "df_c['resp_bytes'] = df_c['resp_bytes'].str.replace('-','0')\n",
    "df_c[\"label\"] = np.where(df_c[\"label\"] == \"Benign\", 0, 1)"
   ],
   "outputs": [],
   "execution_count": 77
  },
  {
   "cell_type": "code",
   "id": "informed-cancellation",
   "metadata": {
    "ExecuteTime": {
     "end_time": "2024-08-09T11:04:34.009284Z",
     "start_time": "2024-08-09T11:04:33.799608Z"
    }
   },
   "source": [
    "df_c.dropna(inplace=True)"
   ],
   "outputs": [],
   "execution_count": 78
  },
  {
   "cell_type": "code",
   "id": "later-cursor",
   "metadata": {
    "ExecuteTime": {
     "end_time": "2024-08-09T11:04:34.115882Z",
     "start_time": "2024-08-09T11:04:34.010292Z"
    }
   },
   "source": [
    "df_c.isna().sum()"
   ],
   "outputs": [
    {
     "data": {
      "text/plain": "duration             0\norig_bytes           0\nresp_bytes           0\nmissed_bytes         0\norig_pkts            0\norig_ip_bytes        0\nresp_pkts            0\nresp_ip_bytes        0\nlabel                0\nproto_icmp           0\nproto_tcp            0\nproto_udp            0\nconn_state_OTH       0\nconn_state_REJ       0\nconn_state_RSTO      0\nconn_state_RSTOS0    0\nconn_state_RSTR      0\nconn_state_RSTRH     0\nconn_state_S0        0\nconn_state_S1        0\nconn_state_S2        0\nconn_state_S3        0\nconn_state_SF        0\nconn_state_SH        0\nconn_state_SHR       0\ndtype: int64"
     },
     "execution_count": 79,
     "metadata": {},
     "output_type": "execute_result"
    }
   ],
   "execution_count": 79
  },
  {
   "cell_type": "code",
   "id": "naked-optics",
   "metadata": {
    "scrolled": false,
    "ExecuteTime": {
     "end_time": "2024-08-09T11:04:34.120135Z",
     "start_time": "2024-08-09T11:04:34.116889Z"
    }
   },
   "source": [
    "print(df_c.columns.tolist())"
   ],
   "outputs": [
    {
     "name": "stdout",
     "output_type": "stream",
     "text": [
      "['duration', 'orig_bytes', 'resp_bytes', 'missed_bytes', 'orig_pkts', 'orig_ip_bytes', 'resp_pkts', 'resp_ip_bytes', 'label', 'proto_icmp', 'proto_tcp', 'proto_udp', 'conn_state_OTH', 'conn_state_REJ', 'conn_state_RSTO', 'conn_state_RSTOS0', 'conn_state_RSTR', 'conn_state_RSTRH', 'conn_state_S0', 'conn_state_S1', 'conn_state_S2', 'conn_state_S3', 'conn_state_SF', 'conn_state_SH', 'conn_state_SHR']\n"
     ]
    }
   ],
   "execution_count": 80
  },
  {
   "cell_type": "code",
   "id": "bacterial-somerset",
   "metadata": {
    "ExecuteTime": {
     "end_time": "2024-08-09T11:04:38.978653Z",
     "start_time": "2024-08-09T11:04:34.121143Z"
    }
   },
   "source": [
    "df_c.to_csv('./Datasets/IoT23/IoT23_combined.csv', index=False)"
   ],
   "outputs": [],
   "execution_count": 81
  },
  {
   "metadata": {
    "ExecuteTime": {
     "end_time": "2024-08-09T11:04:40.140751Z",
     "start_time": "2024-08-09T11:04:38.980662Z"
    }
   },
   "cell_type": "code",
   "source": [
    "train, test = train_test_split(df_c, test_size=0.2, random_state=1337, stratify=df_c[\"label\"])\n",
    "\n",
    "del df_c\n",
    "\n",
    "train.reset_index(drop=True, inplace=True)\n",
    "test.reset_index(drop=True, inplace=True)\n",
    "\n",
    "train.dropna(inplace=True)\n",
    "test.dropna(inplace=True)"
   ],
   "id": "ec3e672489312860",
   "outputs": [],
   "execution_count": 82
  },
  {
   "metadata": {
    "ExecuteTime": {
     "end_time": "2024-08-09T11:04:53.233046Z",
     "start_time": "2024-08-09T11:04:40.141755Z"
    }
   },
   "cell_type": "code",
   "source": [
    "train_y = train[\"label\"]\n",
    "train.drop(columns=[\"label\"], inplace=True)\n",
    "\n",
    "smote = SMOTE(random_state=1337)\n",
    "train, train_y = smote.fit_resample(train, train_y)\n",
    "\n",
    "train = pd.concat([train, train_y], axis=1)"
   ],
   "id": "bc46d32d59ff13c6",
   "outputs": [],
   "execution_count": 83
  },
  {
   "metadata": {
    "ExecuteTime": {
     "end_time": "2024-08-09T11:04:54.690462Z",
     "start_time": "2024-08-09T11:04:53.234584Z"
    }
   },
   "cell_type": "code",
   "source": [
    "train.dropna(inplace=True)\n",
    "train.reset_index(drop=True, inplace=True)\n",
    "\n",
    "train, validation = train_test_split(train, test_size=0.1, random_state=1337)\n",
    "\n",
    "train, train_discarded = train_test_split(train, test_size=0.995, random_state=1337)\n",
    "validation, validation_discarded = train_test_split(validation, test_size=0.995, random_state=1337)"
   ],
   "id": "69f9638a17225d53",
   "outputs": [],
   "execution_count": 84
  },
  {
   "metadata": {
    "ExecuteTime": {
     "end_time": "2024-08-09T11:04:56.871994Z",
     "start_time": "2024-08-09T11:04:54.691493Z"
    }
   },
   "cell_type": "code",
   "source": [
    "del train_discarded, validation_discarded\n",
    "\n",
    "train.reset_index(drop=True, inplace=True)\n",
    "validation.reset_index(drop=True, inplace=True)\n",
    "\n",
    "# Ensure that each dataframe is stored as float64\n",
    "train = train.astype(\"float64\")\n",
    "validation = validation.astype(\"float64\")\n",
    "test = test.astype(\"float64\")\n",
    "\n",
    "train.to_csv(\"./Datasets/Cleaned Datasets/IoT23_training-set.csv\", index=False)\n",
    "validation.to_csv(\"./Datasets/Cleaned Datasets/IoT23_validation-set.csv\", index=False)\n",
    "test.to_csv(\"./Datasets/Cleaned Datasets/IoT23_testing-set.csv\", index=False)"
   ],
   "id": "77cc46440c512f05",
   "outputs": [],
   "execution_count": 85
  },
  {
   "cell_type": "code",
   "id": "hidden-potential",
   "metadata": {
    "ExecuteTime": {
     "end_time": "2024-08-09T11:04:59.661488Z",
     "start_time": "2024-08-09T11:04:56.871994Z"
    }
   },
   "source": [
    "del train, validation, test\n",
    "\n",
    "train_ds = make_csv_dataset(\"./Datasets/Cleaned Datasets/IoT23_training-set.csv\",\n",
    "                            label_name=\"label\", batch_size=64, shuffle=True, num_epochs=1, ignore_errors=True)\n",
    "\n",
    "train_ds.save(\"./Datasets/Cleaned Datasets/IoT23_training-set\")\n",
    "\n",
    "val_ds = make_csv_dataset(\"./Datasets/Cleaned Datasets/IoT23_validation-set.csv\",\n",
    "                          label_name=\"label\", batch_size=64, shuffle=True, num_epochs=1, ignore_errors=True)\n",
    "\n",
    "val_ds.save(\"./Datasets/Cleaned Datasets/IoT23_validation-set\")\n",
    "\n",
    "test_ds = make_csv_dataset(\"./Datasets/Cleaned Datasets/IoT23_testing-set.csv\",\n",
    "                           label_name=\"label\", batch_size=64, shuffle=False, num_epochs=1, ignore_errors=True)\n",
    "\n",
    "test_ds.save(\"./Datasets/Cleaned Datasets/IoT23_testing-set\")"
   ],
   "outputs": [],
   "execution_count": 86
  }
 ],
 "metadata": {
  "kernelspec": {
   "display_name": "Python 3",
   "language": "python",
   "name": "python3"
  },
  "language_info": {
   "codemirror_mode": {
    "name": "ipython",
    "version": 3
   },
   "file_extension": ".py",
   "mimetype": "text/x-python",
   "name": "python",
   "nbconvert_exporter": "python",
   "pygments_lexer": "ipython3",
   "version": "3.8.5"
  }
 },
 "nbformat": 4,
 "nbformat_minor": 5
}
